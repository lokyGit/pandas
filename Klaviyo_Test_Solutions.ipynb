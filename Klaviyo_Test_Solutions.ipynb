{
 "cells": [
  {
   "cell_type": "code",
   "execution_count": 113,
   "metadata": {},
   "outputs": [],
   "source": [
    "# Author: Lokesh Palacharla\n",
    "# Importing required libraries\n",
    "import pandas as pd\n",
    "from pandasql import sqldf\n",
    "import seaborn as sn"
   ]
  },
  {
   "cell_type": "code",
   "execution_count": 114,
   "metadata": {},
   "outputs": [],
   "source": [
    "# Reading the given csv file into a dataframe\n",
    "df = pd.read_csv (r'/Users/lokeshpalacharla/Desktop/screening_exercise_orders_v201810.csv')"
   ]
  },
  {
   "cell_type": "code",
   "execution_count": 115,
   "metadata": {},
   "outputs": [
    {
     "name": "stdout",
     "output_type": "stream",
     "text": [
      "       customer_id  gender                 date   value  predicted_gender\n",
      "0             1000       0  2017-01-01 00:11:31  198.50                 1\n",
      "1             1001       0  2017-01-01 00:29:56  338.00                 1\n",
      "2             1002       1  2017-01-01 01:30:31  733.00                 1\n",
      "3             1003       1  2017-01-01 01:34:22  772.00                 1\n",
      "4             1004       0  2017-01-01 03:11:54  508.00                 1\n",
      "...            ...     ...                  ...     ...               ...\n",
      "13466         9810       1  2017-12-31 22:16:20  794.44                 0\n",
      "13467         9811       1  2017-12-31 22:24:06  148.60                 0\n",
      "13468         9812       0  2017-12-31 23:01:10  153.00                 1\n",
      "13469         9813       0  2017-12-31 23:11:02  534.00                 1\n",
      "13470         8658       0  2017-12-31 23:35:09  306.60                 1\n",
      "\n",
      "[13471 rows x 5 columns]\n"
     ]
    }
   ],
   "source": [
    "# Displaying the data frame\n",
    "print (df)"
   ]
  },
  {
   "cell_type": "code",
   "execution_count": 116,
   "metadata": {},
   "outputs": [],
   "source": [
    "######################### Question A ############################## \n",
    "# Populated the required dataframe with count of orders for each customer by latest date\n",
    "output = sqldf(\"select df.customer_id, df.gender, df.date, cus.order_count as order_count from df INNER JOIN ( select customer_id, count(customer_id) as order_count, max(date) as MaxDate from df group by customer_id ) as cus ON df.customer_id = cus.customer_id and df.date = cus.MaxDate order by df.customer_id asc, df.date desc\" )\n"
   ]
  },
  {
   "cell_type": "code",
   "execution_count": 117,
   "metadata": {},
   "outputs": [
    {
     "data": {
      "text/html": [
       "<div>\n",
       "<style scoped>\n",
       "    .dataframe tbody tr th:only-of-type {\n",
       "        vertical-align: middle;\n",
       "    }\n",
       "\n",
       "    .dataframe tbody tr th {\n",
       "        vertical-align: top;\n",
       "    }\n",
       "\n",
       "    .dataframe thead th {\n",
       "        text-align: right;\n",
       "    }\n",
       "</style>\n",
       "<table border=\"1\" class=\"dataframe\">\n",
       "  <thead>\n",
       "    <tr style=\"text-align: right;\">\n",
       "      <th></th>\n",
       "      <th>customer_id</th>\n",
       "      <th>gender</th>\n",
       "      <th>date</th>\n",
       "      <th>order_count</th>\n",
       "    </tr>\n",
       "  </thead>\n",
       "  <tbody>\n",
       "    <tr>\n",
       "      <th>0</th>\n",
       "      <td>1000</td>\n",
       "      <td>0</td>\n",
       "      <td>2017-01-01 00:11:31</td>\n",
       "      <td>1</td>\n",
       "    </tr>\n",
       "    <tr>\n",
       "      <th>1</th>\n",
       "      <td>1001</td>\n",
       "      <td>0</td>\n",
       "      <td>2017-01-01 00:29:56</td>\n",
       "      <td>1</td>\n",
       "    </tr>\n",
       "    <tr>\n",
       "      <th>2</th>\n",
       "      <td>1002</td>\n",
       "      <td>1</td>\n",
       "      <td>2017-02-19 21:35:31</td>\n",
       "      <td>3</td>\n",
       "    </tr>\n",
       "    <tr>\n",
       "      <th>3</th>\n",
       "      <td>1003</td>\n",
       "      <td>1</td>\n",
       "      <td>2017-04-26 02:37:20</td>\n",
       "      <td>4</td>\n",
       "    </tr>\n",
       "    <tr>\n",
       "      <th>4</th>\n",
       "      <td>1004</td>\n",
       "      <td>0</td>\n",
       "      <td>2017-01-01 03:11:54</td>\n",
       "      <td>1</td>\n",
       "    </tr>\n",
       "    <tr>\n",
       "      <th>5</th>\n",
       "      <td>1005</td>\n",
       "      <td>1</td>\n",
       "      <td>2017-12-16 01:39:27</td>\n",
       "      <td>2</td>\n",
       "    </tr>\n",
       "    <tr>\n",
       "      <th>6</th>\n",
       "      <td>1006</td>\n",
       "      <td>1</td>\n",
       "      <td>2017-05-09 15:27:20</td>\n",
       "      <td>3</td>\n",
       "    </tr>\n",
       "    <tr>\n",
       "      <th>7</th>\n",
       "      <td>1007</td>\n",
       "      <td>0</td>\n",
       "      <td>2017-01-01 15:59:50</td>\n",
       "      <td>1</td>\n",
       "    </tr>\n",
       "    <tr>\n",
       "      <th>8</th>\n",
       "      <td>1008</td>\n",
       "      <td>0</td>\n",
       "      <td>2017-12-17 05:47:48</td>\n",
       "      <td>3</td>\n",
       "    </tr>\n",
       "    <tr>\n",
       "      <th>9</th>\n",
       "      <td>1009</td>\n",
       "      <td>1</td>\n",
       "      <td>2017-01-01 19:27:17</td>\n",
       "      <td>1</td>\n",
       "    </tr>\n",
       "  </tbody>\n",
       "</table>\n",
       "</div>"
      ],
      "text/plain": [
       "   customer_id  gender                 date  order_count\n",
       "0         1000       0  2017-01-01 00:11:31            1\n",
       "1         1001       0  2017-01-01 00:29:56            1\n",
       "2         1002       1  2017-02-19 21:35:31            3\n",
       "3         1003       1  2017-04-26 02:37:20            4\n",
       "4         1004       0  2017-01-01 03:11:54            1\n",
       "5         1005       1  2017-12-16 01:39:27            2\n",
       "6         1006       1  2017-05-09 15:27:20            3\n",
       "7         1007       0  2017-01-01 15:59:50            1\n",
       "8         1008       0  2017-12-17 05:47:48            3\n",
       "9         1009       1  2017-01-01 19:27:17            1"
      ]
     },
     "execution_count": 117,
     "metadata": {},
     "output_type": "execute_result"
    }
   ],
   "source": [
    "# Displaying the first 10 records of the dataframe\n",
    "output.head(10)"
   ]
  },
  {
   "cell_type": "code",
   "execution_count": 118,
   "metadata": {},
   "outputs": [],
   "source": [
    "######################### Question B ##############################\n",
    "# Extracted the date from the given timestamp column\n",
    "output['date'] = pd.to_datetime(output['date'],format='%Y-%m-%d')\n",
    "# Grouping the count of orders by the week\n",
    "order_ts = output.groupby(output.date.dt.strftime('%W')).order_count.count()"
   ]
  },
  {
   "cell_type": "code",
   "execution_count": 119,
   "metadata": {},
   "outputs": [
    {
     "data": {
      "text/plain": [
       "<AxesSubplot:xlabel='Week', ylabel='Count of Orders'>"
      ]
     },
     "execution_count": 119,
     "metadata": {},
     "output_type": "execute_result"
    },
    {
     "data": {
      "image/png": "[encoded data removed]",
      "text/plain": [
       "<Figure size 432x288 with 1 Axes>"
      ]
     },
     "metadata": {
      "needs_background": "light"
     },
     "output_type": "display_data"
    }
   ],
   "source": [
    "# Ploting the count of orders by week\n",
    "order_ts.plot( xlabel = 'Week', ylabel = 'Count of Orders')"
   ]
  },
  {
   "cell_type": "code",
   "execution_count": 132,
   "metadata": {},
   "outputs": [
    {
     "data": {
      "text/plain": [
       "gender\n",
       "0    363.890006\n",
       "1    350.708361\n",
       "Name: value, dtype: float64"
      ]
     },
     "execution_count": 132,
     "metadata": {},
     "output_type": "execute_result"
    }
   ],
   "source": [
    "######################### Question C ##############################\n",
    "# Calculated the mean order values for each gender \n",
    "df.groupby(df.gender).value.mean()\n"
   ]
  },
  {
   "cell_type": "code",
   "execution_count": 135,
   "metadata": {},
   "outputs": [
    {
     "data": {
      "text/html": [
       "<div>\n",
       "<style scoped>\n",
       "    .dataframe tbody tr th:only-of-type {\n",
       "        vertical-align: middle;\n",
       "    }\n",
       "\n",
       "    .dataframe tbody tr th {\n",
       "        vertical-align: top;\n",
       "    }\n",
       "\n",
       "    .dataframe thead th {\n",
       "        text-align: right;\n",
       "    }\n",
       "</style>\n",
       "<table border=\"1\" class=\"dataframe\">\n",
       "  <thead>\n",
       "    <tr style=\"text-align: right;\">\n",
       "      <th></th>\n",
       "      <th>customer_id</th>\n",
       "      <th>gender</th>\n",
       "      <th>predicted_gender</th>\n",
       "    </tr>\n",
       "  </thead>\n",
       "  <tbody>\n",
       "    <tr>\n",
       "      <th>0</th>\n",
       "      <td>1000</td>\n",
       "      <td>0</td>\n",
       "      <td>1</td>\n",
       "    </tr>\n",
       "    <tr>\n",
       "      <th>1</th>\n",
       "      <td>1001</td>\n",
       "      <td>0</td>\n",
       "      <td>1</td>\n",
       "    </tr>\n",
       "    <tr>\n",
       "      <th>2</th>\n",
       "      <td>1002</td>\n",
       "      <td>1</td>\n",
       "      <td>1</td>\n",
       "    </tr>\n",
       "    <tr>\n",
       "      <th>3</th>\n",
       "      <td>1003</td>\n",
       "      <td>1</td>\n",
       "      <td>1</td>\n",
       "    </tr>\n",
       "    <tr>\n",
       "      <th>4</th>\n",
       "      <td>1004</td>\n",
       "      <td>0</td>\n",
       "      <td>1</td>\n",
       "    </tr>\n",
       "    <tr>\n",
       "      <th>5</th>\n",
       "      <td>1005</td>\n",
       "      <td>1</td>\n",
       "      <td>0</td>\n",
       "    </tr>\n",
       "    <tr>\n",
       "      <th>6</th>\n",
       "      <td>1006</td>\n",
       "      <td>1</td>\n",
       "      <td>1</td>\n",
       "    </tr>\n",
       "    <tr>\n",
       "      <th>7</th>\n",
       "      <td>1007</td>\n",
       "      <td>0</td>\n",
       "      <td>0</td>\n",
       "    </tr>\n",
       "    <tr>\n",
       "      <th>8</th>\n",
       "      <td>1008</td>\n",
       "      <td>0</td>\n",
       "      <td>0</td>\n",
       "    </tr>\n",
       "    <tr>\n",
       "      <th>9</th>\n",
       "      <td>1009</td>\n",
       "      <td>1</td>\n",
       "      <td>1</td>\n",
       "    </tr>\n",
       "    <tr>\n",
       "      <th>10</th>\n",
       "      <td>1010</td>\n",
       "      <td>1</td>\n",
       "      <td>1</td>\n",
       "    </tr>\n",
       "    <tr>\n",
       "      <th>11</th>\n",
       "      <td>1011</td>\n",
       "      <td>1</td>\n",
       "      <td>1</td>\n",
       "    </tr>\n",
       "    <tr>\n",
       "      <th>12</th>\n",
       "      <td>1012</td>\n",
       "      <td>1</td>\n",
       "      <td>0</td>\n",
       "    </tr>\n",
       "    <tr>\n",
       "      <th>13</th>\n",
       "      <td>1013</td>\n",
       "      <td>0</td>\n",
       "      <td>0</td>\n",
       "    </tr>\n",
       "    <tr>\n",
       "      <th>14</th>\n",
       "      <td>1014</td>\n",
       "      <td>1</td>\n",
       "      <td>1</td>\n",
       "    </tr>\n",
       "    <tr>\n",
       "      <th>15</th>\n",
       "      <td>1015</td>\n",
       "      <td>0</td>\n",
       "      <td>0</td>\n",
       "    </tr>\n",
       "    <tr>\n",
       "      <th>16</th>\n",
       "      <td>1016</td>\n",
       "      <td>1</td>\n",
       "      <td>0</td>\n",
       "    </tr>\n",
       "    <tr>\n",
       "      <th>17</th>\n",
       "      <td>1017</td>\n",
       "      <td>0</td>\n",
       "      <td>0</td>\n",
       "    </tr>\n",
       "    <tr>\n",
       "      <th>18</th>\n",
       "      <td>1018</td>\n",
       "      <td>0</td>\n",
       "      <td>0</td>\n",
       "    </tr>\n",
       "    <tr>\n",
       "      <th>19</th>\n",
       "      <td>1019</td>\n",
       "      <td>0</td>\n",
       "      <td>1</td>\n",
       "    </tr>\n",
       "  </tbody>\n",
       "</table>\n",
       "</div>"
      ],
      "text/plain": [
       "    customer_id  gender  predicted_gender\n",
       "0          1000       0                 1\n",
       "1          1001       0                 1\n",
       "2          1002       1                 1\n",
       "3          1003       1                 1\n",
       "4          1004       0                 1\n",
       "5          1005       1                 0\n",
       "6          1006       1                 1\n",
       "7          1007       0                 0\n",
       "8          1008       0                 0\n",
       "9          1009       1                 1\n",
       "10         1010       1                 1\n",
       "11         1011       1                 1\n",
       "12         1012       1                 0\n",
       "13         1013       0                 0\n",
       "14         1014       1                 1\n",
       "15         1015       0                 0\n",
       "16         1016       1                 0\n",
       "17         1017       0                 0\n",
       "18         1018       0                 0\n",
       "19         1019       0                 1"
      ]
     },
     "execution_count": 135,
     "metadata": {},
     "output_type": "execute_result"
    }
   ],
   "source": [
    "######################### Question D ##############################\n",
    "# Preparing the dataframe with actual gender values and predicted gender values\n",
    "conf_df = sqldf(\"select distinct customer_id, gender, predicted_gender from df\")\n",
    "\n",
    "# Checking the top 20 dataframe values\n",
    "conf_df.head(20)"
   ]
  },
  {
   "cell_type": "code",
   "execution_count": 137,
   "metadata": {},
   "outputs": [
    {
     "name": "stdout",
     "output_type": "stream",
     "text": [
      "Predicted_gender     0     1\n",
      "Actual_gender               \n",
      "0                 2189  2218\n",
      "1                  895  3512\n"
     ]
    },
    {
     "data": {
      "image/png": "[encoded data removed]",
      "text/plain": [
       "<Figure size 432x288 with 2 Axes>"
      ]
     },
     "metadata": {
      "needs_background": "light"
     },
     "output_type": "display_data"
    }
   ],
   "source": [
    "# Calculated the confusion matrix and plotted the confusion matrix\n",
    "cm =  pd.crosstab(conf_df['gender'], conf_df['predicted_gender'], rownames=['Actual_gender'], colnames=['Predicted_gender'], margins = False)\n",
    "print(cm)\n",
    "sn.heatmap(cm, cmap = 'YlGnBu',annot = True,fmt=\".1f\")\n",
    "plt.show()"
   ]
  },
  {
   "cell_type": "code",
   "execution_count": 124,
   "metadata": {},
   "outputs": [],
   "source": [
    "# Explanation \n",
    "\n",
    "# For question A, I've used Pandas and Pandasql packages as they are helpful while preparing the required dataframe. Pandasql package provides us with an option to run sql queries on the dataframe and it easily retrives the number of orders placed by the customer and sorts it based on the most recent date, ascending customer_id and stores it in the dataframe\n",
    "\n",
    "# For question B, I've used to_datetime(),groupby(),strftime(),plot() functions available in the pandas package. It helped me to perform date conversion from timestamp to Year-month-date format and group it by week and then plotted the timeseries using regular plot() function.\n",
    "\n",
    "# For question C, I've used the groupby() function with mean() attribute to calculate the mean order values for gender = 0 and gender = 1. Gender 0's mean order value is more than gender 1, meaning gender 0's are placing high valued orders than gender 1. The groupby() function is helpful while splitting the data into groups based on specific criteria and applying function to the groups.\n",
    " \n",
    "# For question D, I've used sqldf() function from the pandasql package to produce a dataframe with only one predicted gender value for each customer. Then making use of crosstab() function, I've generated the confusion matrix with Actual gender values and predicted gender values. Though not required, I've plotted a heat map for the confusion matrix using seaborn package's heatmap() method.\n"
   ]
  }
 ],
 "metadata": {
  "kernelspec": {
   "display_name": "Python 3",
   "language": "python",
   "name": "python3"
  },
  "language_info": {
   "codemirror_mode": {
    "name": "ipython",
    "version": 3
   },
   "file_extension": ".py",
   "mimetype": "text/x-python",
   "name": "python",
   "nbconvert_exporter": "python",
   "pygments_lexer": "ipython3",
   "version": "3.8.0"
  }
 },
 "nbformat": 4,
 "nbformat_minor": 4
}
